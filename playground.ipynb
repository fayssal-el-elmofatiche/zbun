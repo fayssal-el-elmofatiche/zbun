{
 "cells": [
  {
   "cell_type": "code",
   "execution_count": 24,
   "metadata": {},
   "outputs": [
    {
     "data": {
      "text/plain": [
       "['24/5',\n",
       " '24/7',\n",
       " 'AIXK',\n",
       " 'ASEX',\n",
       " 'ASX',\n",
       " 'BATS',\n",
       " 'BMF',\n",
       " 'BSE',\n",
       " 'BVB',\n",
       " 'BVMF',\n",
       " 'CBOT',\n",
       " 'CFE',\n",
       " 'CME',\n",
       " 'CMES',\n",
       " 'COMEX',\n",
       " 'CSVDIR',\n",
       " 'FWB',\n",
       " 'HKEX',\n",
       " 'ICE',\n",
       " 'ICEUS',\n",
       " 'IEPA',\n",
       " 'JKT',\n",
       " 'JPX',\n",
       " 'LSE',\n",
       " 'NASDAQ',\n",
       " 'NYFE',\n",
       " 'NYMEX',\n",
       " 'NYSE',\n",
       " 'OSE',\n",
       " 'QUANDL',\n",
       " 'SIX',\n",
       " 'SSE',\n",
       " 'TASE',\n",
       " 'TSX',\n",
       " 'XAMS',\n",
       " 'XASX',\n",
       " 'XBKK',\n",
       " 'XBOG',\n",
       " 'XBOM',\n",
       " 'XBRU',\n",
       " 'XBSE',\n",
       " 'XBUD',\n",
       " 'XBUE',\n",
       " 'XCBF',\n",
       " 'XCSE',\n",
       " 'XDUB',\n",
       " 'XETR',\n",
       " 'XFRA',\n",
       " 'XHEL',\n",
       " 'XHKG',\n",
       " 'XICE',\n",
       " 'XIDX',\n",
       " 'XIST',\n",
       " 'XJSE',\n",
       " 'XKAR',\n",
       " 'XKLS',\n",
       " 'XKRX',\n",
       " 'XLIM',\n",
       " 'XLIS',\n",
       " 'XLON',\n",
       " 'XMAD',\n",
       " 'XMEX',\n",
       " 'XMIL',\n",
       " 'XMOS',\n",
       " 'XNAS',\n",
       " 'XNYS',\n",
       " 'XNZE',\n",
       " 'XOSL',\n",
       " 'XPAR',\n",
       " 'XPHS',\n",
       " 'XPRA',\n",
       " 'XSAU',\n",
       " 'XSES',\n",
       " 'XSGO',\n",
       " 'XSHG',\n",
       " 'XSTO',\n",
       " 'XSWX',\n",
       " 'XTAE',\n",
       " 'XTAI',\n",
       " 'XTKS',\n",
       " 'XTSE',\n",
       " 'XWAR',\n",
       " 'XWBO',\n",
       " 'us_futures']"
      ]
     },
     "execution_count": 24,
     "metadata": {},
     "output_type": "execute_result"
    }
   ],
   "source": [
    "# show list of calendars supported by zipline\n",
    "# https://www.zipline.io/calendar.html#module-zipline.utils.calendars\n",
    "import zipline\n",
    "import pandas as pd\n",
    "import os\n",
    "import sys\n",
    "\n",
    "from zipline.utils.calendar_utils import get_calendar_names\n",
    "\n",
    "sorted(get_calendar_names())"
   ]
  },
  {
   "cell_type": "code",
   "execution_count": 30,
   "metadata": {},
   "outputs": [
    {
     "name": "stdout",
     "output_type": "stream",
     "text": [
      "{'version': 1, 'remove_existing_bundles': False, 'bundle': {'name': 'rstocks', 'calendar': 'NYSE'}}\n"
     ]
    }
   ],
   "source": [
    "import yaml\n",
    "from pathlib import Path\n",
    "\n",
    "p = Path(\".\").absolute().joinpath(\"rstocks/zbundle.yaml\").absolute()\n",
    "\n",
    "with open(p) as f:\n",
    "    data = yaml.safe_load(f)\n",
    "\n",
    "print(data)"
   ]
  },
  {
   "cell_type": "code",
   "execution_count": 31,
   "metadata": {},
   "outputs": [
    {
     "data": {
      "text/plain": [
       "'rstocks'"
      ]
     },
     "execution_count": 31,
     "metadata": {},
     "output_type": "execute_result"
    }
   ],
   "source": [
    "data[\"bundle\"][\"name\"]"
   ]
  },
  {
   "cell_type": "code",
   "execution_count": 32,
   "metadata": {},
   "outputs": [],
   "source": [
    "from rstocks.dataprep import random_stock_data"
   ]
  },
  {
   "cell_type": "code",
   "execution_count": 43,
   "metadata": {},
   "outputs": [
    {
     "data": {
      "text/plain": [
       "<module 'rstocks' (<_frozen_importlib_external.NamespaceLoader object at 0x2a2eed6d0>)>"
      ]
     },
     "execution_count": 43,
     "metadata": {},
     "output_type": "execute_result"
    }
   ],
   "source": [
    "bmodule = __import__(\"rstocks.dataprep\")\n",
    "bmodule"
   ]
  },
  {
   "cell_type": "code",
   "execution_count": 45,
   "metadata": {},
   "outputs": [
    {
     "data": {
      "text/plain": [
       "<module 'rstocks.dataprep' from '/Users/fayssalelmofatiche/dev/dnbf/zbundler/rstocks/dataprep.py'>"
      ]
     },
     "execution_count": 45,
     "metadata": {},
     "output_type": "execute_result"
    }
   ],
   "source": [
    "import importlib\n",
    "\n",
    "module_name = \"rstocks.dataprep\"\n",
    "\n",
    "module = importlib.import_module(module_name)\n",
    "module"
   ]
  },
  {
   "cell_type": "code",
   "execution_count": 46,
   "metadata": {},
   "outputs": [
    {
     "data": {
      "text/plain": [
       "['__name__',\n",
       " '__doc__',\n",
       " '__package__',\n",
       " '__loader__',\n",
       " '__spec__',\n",
       " '__file__',\n",
       " '__cached__',\n",
       " '__builtins__',\n",
       " 'pd',\n",
       " 'listdir',\n",
       " 'path',\n",
       " 'test_load',\n",
       " 'random_stock_data',\n",
       " 'process_stocks']"
      ]
     },
     "execution_count": 46,
     "metadata": {},
     "output_type": "execute_result"
    }
   ],
   "source": [
    "module.__dir__()"
   ]
  },
  {
   "cell_type": "code",
   "execution_count": 48,
   "metadata": {},
   "outputs": [
    {
     "ename": "FileNotFoundError",
     "evalue": "[Errno 2] No such file or directory: './data/random_stocks'",
     "output_type": "error",
     "traceback": [
      "\u001b[0;31m---------------------------------------------------------------------------\u001b[0m",
      "\u001b[0;31mFileNotFoundError\u001b[0m                         Traceback (most recent call last)",
      "\u001b[1;32m/Users/fayssalelmofatiche/dev/dnbf/zbundler/playground.ipynb Cell 8\u001b[0m line \u001b[0;36m1\n\u001b[0;32m----> <a href='vscode-notebook-cell:/Users/fayssalelmofatiche/dev/dnbf/zbundler/playground.ipynb#X66sZmlsZQ%3D%3D?line=0'>1</a>\u001b[0m module\u001b[39m.\u001b[39mtest_load()\n",
      "File \u001b[0;32m~/dev/dnbf/zbundler/rstocks/dataprep.py:13\u001b[0m, in \u001b[0;36mtest_load\u001b[0;34m()\u001b[0m\n\u001b[1;32m     12\u001b[0m \u001b[39mdef\u001b[39;00m \u001b[39mtest_load\u001b[39m():\n\u001b[0;32m---> 13\u001b[0m     symbols \u001b[39m=\u001b[39m [f[:\u001b[39m-\u001b[39m\u001b[39m4\u001b[39m] \u001b[39mfor\u001b[39;00m f \u001b[39min\u001b[39;00m listdir(path)]\n\u001b[1;32m     14\u001b[0m     \u001b[39mprint\u001b[39m(\u001b[39m'\u001b[39m\u001b[39mReading data for \u001b[39m\u001b[39m{}\u001b[39;00m\u001b[39m symbols\u001b[39m\u001b[39m'\u001b[39m\u001b[39m.\u001b[39mformat(\u001b[39mlen\u001b[39m(symbols)))\n",
      "\u001b[0;31mFileNotFoundError\u001b[0m: [Errno 2] No such file or directory: './data/random_stocks'"
     ]
    }
   ],
   "source": [
    "module.test_load()"
   ]
  },
  {
   "cell_type": "code",
   "execution_count": null,
   "metadata": {},
   "outputs": [],
   "source": []
  },
  {
   "cell_type": "code",
   "execution_count": null,
   "metadata": {},
   "outputs": [],
   "source": []
  },
  {
   "cell_type": "code",
   "execution_count": null,
   "metadata": {},
   "outputs": [],
   "source": []
  },
  {
   "cell_type": "code",
   "execution_count": 44,
   "metadata": {},
   "outputs": [
    {
     "ename": "ModuleNotFoundError",
     "evalue": "No module named 'bmodule'",
     "output_type": "error",
     "traceback": [
      "\u001b[0;31m---------------------------------------------------------------------------\u001b[0m",
      "\u001b[0;31mModuleNotFoundError\u001b[0m                       Traceback (most recent call last)",
      "\u001b[1;32m/Users/fayssalelmofatiche/dev/dnbf/zbundler/playground.ipynb Cell 8\u001b[0m line \u001b[0;36m1\n\u001b[0;32m----> <a href='vscode-notebook-cell:/Users/fayssalelmofatiche/dev/dnbf/zbundler/playground.ipynb#X60sZmlsZQ%3D%3D?line=0'>1</a>\u001b[0m \u001b[39mfrom\u001b[39;00m \u001b[39mbmodule\u001b[39;00m \u001b[39mimport\u001b[39;00m test_load\n",
      "\u001b[0;31mModuleNotFoundError\u001b[0m: No module named 'bmodule'"
     ]
    }
   ],
   "source": [
    "from bmodule import test_load"
   ]
  },
  {
   "cell_type": "code",
   "execution_count": null,
   "metadata": {},
   "outputs": [],
   "source": []
  },
  {
   "cell_type": "code",
   "execution_count": null,
   "metadata": {},
   "outputs": [],
   "source": []
  },
  {
   "cell_type": "code",
   "execution_count": null,
   "metadata": {},
   "outputs": [],
   "source": []
  },
  {
   "cell_type": "code",
   "execution_count": null,
   "metadata": {},
   "outputs": [],
   "source": []
  },
  {
   "cell_type": "code",
   "execution_count": null,
   "metadata": {},
   "outputs": [],
   "source": []
  },
  {
   "cell_type": "code",
   "execution_count": null,
   "metadata": {},
   "outputs": [],
   "source": []
  },
  {
   "cell_type": "code",
   "execution_count": 35,
   "metadata": {},
   "outputs": [
    {
     "name": "stdout",
     "output_type": "stream",
     "text": [
      "/Users/fayssalelmofatiche/dev/dnbf/zbundler\n"
     ]
    }
   ],
   "source": [
    "! pwd"
   ]
  },
  {
   "cell_type": "code",
   "execution_count": null,
   "metadata": {},
   "outputs": [],
   "source": []
  },
  {
   "cell_type": "code",
   "execution_count": null,
   "metadata": {},
   "outputs": [],
   "source": []
  },
  {
   "cell_type": "code",
   "execution_count": null,
   "metadata": {},
   "outputs": [],
   "source": []
  },
  {
   "cell_type": "code",
   "execution_count": null,
   "metadata": {},
   "outputs": [],
   "source": []
  },
  {
   "cell_type": "code",
   "execution_count": null,
   "metadata": {},
   "outputs": [],
   "source": []
  },
  {
   "cell_type": "code",
   "execution_count": null,
   "metadata": {},
   "outputs": [],
   "source": []
  },
  {
   "cell_type": "code",
   "execution_count": null,
   "metadata": {},
   "outputs": [],
   "source": []
  },
  {
   "cell_type": "code",
   "execution_count": null,
   "metadata": {},
   "outputs": [],
   "source": []
  },
  {
   "cell_type": "code",
   "execution_count": null,
   "metadata": {},
   "outputs": [],
   "source": []
  },
  {
   "cell_type": "code",
   "execution_count": null,
   "metadata": {},
   "outputs": [],
   "source": []
  },
  {
   "cell_type": "code",
   "execution_count": null,
   "metadata": {},
   "outputs": [],
   "source": []
  },
  {
   "cell_type": "code",
   "execution_count": null,
   "metadata": {},
   "outputs": [],
   "source": []
  },
  {
   "cell_type": "code",
   "execution_count": null,
   "metadata": {},
   "outputs": [],
   "source": []
  },
  {
   "cell_type": "code",
   "execution_count": null,
   "metadata": {},
   "outputs": [],
   "source": []
  },
  {
   "cell_type": "code",
   "execution_count": null,
   "metadata": {},
   "outputs": [],
   "source": []
  },
  {
   "cell_type": "code",
   "execution_count": null,
   "metadata": {},
   "outputs": [],
   "source": []
  },
  {
   "cell_type": "code",
   "execution_count": null,
   "metadata": {},
   "outputs": [],
   "source": []
  },
  {
   "cell_type": "code",
   "execution_count": null,
   "metadata": {},
   "outputs": [],
   "source": []
  },
  {
   "cell_type": "code",
   "execution_count": null,
   "metadata": {},
   "outputs": [],
   "source": []
  },
  {
   "cell_type": "code",
   "execution_count": null,
   "metadata": {},
   "outputs": [],
   "source": []
  },
  {
   "cell_type": "code",
   "execution_count": null,
   "metadata": {},
   "outputs": [],
   "source": []
  },
  {
   "cell_type": "code",
   "execution_count": null,
   "metadata": {},
   "outputs": [],
   "source": []
  },
  {
   "cell_type": "code",
   "execution_count": null,
   "metadata": {},
   "outputs": [],
   "source": []
  },
  {
   "cell_type": "code",
   "execution_count": null,
   "metadata": {},
   "outputs": [],
   "source": []
  },
  {
   "cell_type": "code",
   "execution_count": null,
   "metadata": {},
   "outputs": [],
   "source": []
  },
  {
   "cell_type": "code",
   "execution_count": null,
   "metadata": {},
   "outputs": [],
   "source": []
  },
  {
   "cell_type": "code",
   "execution_count": null,
   "metadata": {},
   "outputs": [],
   "source": []
  }
 ],
 "metadata": {
  "kernelspec": {
   "display_name": "zipline311",
   "language": "python",
   "name": "python3"
  },
  "language_info": {
   "codemirror_mode": {
    "name": "ipython",
    "version": 3
   },
   "file_extension": ".py",
   "mimetype": "text/x-python",
   "name": "python",
   "nbconvert_exporter": "python",
   "pygments_lexer": "ipython3",
   "version": "3.11.7"
  }
 },
 "nbformat": 4,
 "nbformat_minor": 2
}
