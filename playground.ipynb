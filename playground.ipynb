{
 "cells": [
  {
   "cell_type": "code",
   "execution_count": 4,
   "metadata": {},
   "outputs": [
    {
     "name": "stdout",
     "output_type": "stream",
     "text": [
      "bundle: quandl\n",
      "  start_session: None\n",
      "  end_session: None\n",
      "  calendar_name: NYSE\n",
      "bundle: quantopian-quandl\n",
      "  start_session: None\n",
      "  end_session: None\n",
      "  calendar_name: NYSE\n",
      "bundle: csvdir\n",
      "  start_session: None\n",
      "  end_session: None\n",
      "  calendar_name: NYSE\n"
     ]
    }
   ],
   "source": [
    "# list bundles availabe in zipline\n",
    "\n",
    "import os\n",
    "import sys\n",
    "import argparse\n",
    "import pandas as pd\n",
    "from zipline.data import bundles\n",
    "\n",
    "\n",
    "for name, bundle in bundles.bundles.items():\n",
    "    print(\"bundle: {}\".format(name))\n",
    "    print(\"  start_session: {}\".format(bundle.start_session))\n",
    "    print(\"  end_session: {}\".format(bundle.end_session))\n",
    "    print(\"  calendar_name: {}\".format(bundle.calendar_name))"
   ]
  },
  {
   "cell_type": "code",
   "execution_count": 10,
   "metadata": {},
   "outputs": [
    {
     "ename": "UnknownBundle",
     "evalue": "No bundle registered with the name 'rstocks'",
     "output_type": "error",
     "traceback": [
      "\u001b[0;31m---------------------------------------------------------------------------\u001b[0m",
      "\u001b[0;31mUnknownBundle\u001b[0m                             Traceback (most recent call last)",
      "\u001b[1;32m/Users/fayssalelmofatiche/dev/dnbf/zbun/playground.ipynb Cell 2\u001b[0m line \u001b[0;36m2\n\u001b[1;32m      <a href='vscode-notebook-cell:/Users/fayssalelmofatiche/dev/dnbf/zbun/playground.ipynb#Y100sZmlsZQ%3D%3D?line=0'>1</a>\u001b[0m \u001b[39m# load zipline bundle data\u001b[39;00m\n\u001b[0;32m----> <a href='vscode-notebook-cell:/Users/fayssalelmofatiche/dev/dnbf/zbun/playground.ipynb#Y100sZmlsZQ%3D%3D?line=1'>2</a>\u001b[0m bundle_data \u001b[39m=\u001b[39m bundles\u001b[39m.\u001b[39;49mload(\u001b[39m'\u001b[39;49m\u001b[39mrstocks\u001b[39;49m\u001b[39m'\u001b[39;49m)\n",
      "File \u001b[0;32m~/anaconda3/envs/zbundler/lib/python3.11/site-packages/zipline/data/bundles/core.py:532\u001b[0m, in \u001b[0;36m_make_bundle_core.<locals>.load\u001b[0;34m(name, environ, timestamp)\u001b[0m\n\u001b[1;32m    530\u001b[0m \u001b[39mif\u001b[39;00m timestamp \u001b[39mis\u001b[39;00m \u001b[39mNone\u001b[39;00m:\n\u001b[1;32m    531\u001b[0m     timestamp \u001b[39m=\u001b[39m pd\u001b[39m.\u001b[39mTimestamp\u001b[39m.\u001b[39mutcnow()\n\u001b[0;32m--> 532\u001b[0m timestr \u001b[39m=\u001b[39m most_recent_data(name, timestamp, environ\u001b[39m=\u001b[39;49menviron)\n\u001b[1;32m    533\u001b[0m \u001b[39mreturn\u001b[39;00m BundleData(\n\u001b[1;32m    534\u001b[0m     asset_finder\u001b[39m=\u001b[39mAssetFinder(\n\u001b[1;32m    535\u001b[0m         asset_db_path(name, timestr, environ\u001b[39m=\u001b[39menviron),\n\u001b[0;32m   (...)\u001b[0m\n\u001b[1;32m    545\u001b[0m     ),\n\u001b[1;32m    546\u001b[0m )\n",
      "File \u001b[0;32m~/anaconda3/envs/zbundler/lib/python3.11/site-packages/zipline/data/bundles/core.py:485\u001b[0m, in \u001b[0;36m_make_bundle_core.<locals>.most_recent_data\u001b[0;34m(bundle_name, timestamp, environ)\u001b[0m\n\u001b[1;32m    472\u001b[0m \u001b[39m\u001b[39m\u001b[39m\"\"\"Get the path to the most recent data after ``date``for the\u001b[39;00m\n\u001b[1;32m    473\u001b[0m \u001b[39mgiven bundle.\u001b[39;00m\n\u001b[1;32m    474\u001b[0m \n\u001b[0;32m   (...)\u001b[0m\n\u001b[1;32m    482\u001b[0m \u001b[39m    An environment dict to forward to zipline_root.\u001b[39;00m\n\u001b[1;32m    483\u001b[0m \u001b[39m\"\"\"\u001b[39;00m\n\u001b[1;32m    484\u001b[0m \u001b[39mif\u001b[39;00m bundle_name \u001b[39mnot\u001b[39;00m \u001b[39min\u001b[39;00m bundles:\n\u001b[0;32m--> 485\u001b[0m     \u001b[39mraise\u001b[39;00m UnknownBundle(bundle_name)\n\u001b[1;32m    487\u001b[0m \u001b[39mtry\u001b[39;00m:\n\u001b[1;32m    488\u001b[0m     candidates \u001b[39m=\u001b[39m os\u001b[39m.\u001b[39mlistdir(\n\u001b[1;32m    489\u001b[0m         pth\u001b[39m.\u001b[39mdata_path([bundle_name], environ\u001b[39m=\u001b[39menviron),\n\u001b[1;32m    490\u001b[0m     )\n",
      "\u001b[0;31mUnknownBundle\u001b[0m: No bundle registered with the name 'rstocks'"
     ]
    }
   ],
   "source": [
    "# load zipline bundle data\n",
    "bundle_data = bundles.load(\"rstocks\")"
   ]
  },
  {
   "cell_type": "code",
   "execution_count": 11,
   "metadata": {},
   "outputs": [
    {
     "ename": "UnknownBundle",
     "evalue": "No bundle registered with the name 'rstocks'",
     "output_type": "error",
     "traceback": [
      "\u001b[0;31m---------------------------------------------------------------------------\u001b[0m",
      "\u001b[0;31mKeyError\u001b[0m                                  Traceback (most recent call last)",
      "File \u001b[0;32m~/anaconda3/envs/zbundler/lib/python3.11/site-packages/zipline/data/bundles/core.py:371\u001b[0m, in \u001b[0;36m_make_bundle_core.<locals>.ingest\u001b[0;34m(name, environ, timestamp, assets_versions, show_progress)\u001b[0m\n\u001b[1;32m    370\u001b[0m \u001b[39mtry\u001b[39;00m:\n\u001b[0;32m--> 371\u001b[0m     bundle \u001b[39m=\u001b[39m bundles[name]\n\u001b[1;32m    372\u001b[0m \u001b[39mexcept\u001b[39;00m \u001b[39mKeyError\u001b[39;00m:\n",
      "\u001b[0;31mKeyError\u001b[0m: 'rstocks'",
      "\nDuring handling of the above exception, another exception occurred:\n",
      "\u001b[0;31mUnknownBundle\u001b[0m                             Traceback (most recent call last)",
      "\u001b[1;32m/Users/fayssalelmofatiche/dev/dnbf/zbun/playground.ipynb Cell 3\u001b[0m line \u001b[0;36m2\n\u001b[1;32m      <a href='vscode-notebook-cell:/Users/fayssalelmofatiche/dev/dnbf/zbun/playground.ipynb#Y106sZmlsZQ%3D%3D?line=0'>1</a>\u001b[0m \u001b[39m# reload list bundles in zipline\u001b[39;00m\n\u001b[0;32m----> <a href='vscode-notebook-cell:/Users/fayssalelmofatiche/dev/dnbf/zbun/playground.ipynb#Y106sZmlsZQ%3D%3D?line=1'>2</a>\u001b[0m bundles\u001b[39m.\u001b[39;49mingest(\u001b[39m'\u001b[39;49m\u001b[39mrstocks\u001b[39;49m\u001b[39m'\u001b[39;49m)\n",
      "File \u001b[0;32m~/anaconda3/envs/zbundler/lib/python3.11/site-packages/zipline/data/bundles/core.py:373\u001b[0m, in \u001b[0;36m_make_bundle_core.<locals>.ingest\u001b[0;34m(name, environ, timestamp, assets_versions, show_progress)\u001b[0m\n\u001b[1;32m    371\u001b[0m     bundle \u001b[39m=\u001b[39m bundles[name]\n\u001b[1;32m    372\u001b[0m \u001b[39mexcept\u001b[39;00m \u001b[39mKeyError\u001b[39;00m:\n\u001b[0;32m--> 373\u001b[0m     \u001b[39mraise\u001b[39;00m UnknownBundle(name)\n\u001b[1;32m    375\u001b[0m calendar \u001b[39m=\u001b[39m get_calendar(bundle\u001b[39m.\u001b[39mcalendar_name)\n\u001b[1;32m    377\u001b[0m start_session \u001b[39m=\u001b[39m bundle\u001b[39m.\u001b[39mstart_session\n",
      "\u001b[0;31mUnknownBundle\u001b[0m: No bundle registered with the name 'rstocks'"
     ]
    }
   ],
   "source": [
    "# reload list bundles in zipline\n",
    "bundles.ingest(\"rstocks\")"
   ]
  },
  {
   "cell_type": "code",
   "execution_count": 15,
   "metadata": {},
   "outputs": [
    {
     "ename": "ImportError",
     "evalue": "cannot import name 'asset_db_path' from 'zipline.data.bundles' (/Users/fayssalelmofatiche/anaconda3/envs/zbundler/lib/python3.11/site-packages/zipline/data/bundles/__init__.py)",
     "output_type": "error",
     "traceback": [
      "\u001b[0;31m---------------------------------------------------------------------------\u001b[0m",
      "\u001b[0;31mImportError\u001b[0m                               Traceback (most recent call last)",
      "\u001b[1;32m/Users/fayssalelmofatiche/dev/dnbf/zbun/playground.ipynb Cell 4\u001b[0m line \u001b[0;36m1\n\u001b[0;32m----> <a href='vscode-notebook-cell:/Users/fayssalelmofatiche/dev/dnbf/zbun/playground.ipynb#Y110sZmlsZQ%3D%3D?line=0'>1</a>\u001b[0m \u001b[39mfrom\u001b[39;00m \u001b[39mzipline\u001b[39;00m\u001b[39m.\u001b[39;00m\u001b[39mdata\u001b[39;00m\u001b[39m.\u001b[39;00m\u001b[39mbundles\u001b[39;00m \u001b[39mimport\u001b[39;00m asset_db_path\n\u001b[1;32m      <a href='vscode-notebook-cell:/Users/fayssalelmofatiche/dev/dnbf/zbun/playground.ipynb#Y110sZmlsZQ%3D%3D?line=1'>2</a>\u001b[0m asset_db_path(\u001b[39m'\u001b[39m\u001b[39mcsvdir\u001b[39m\u001b[39m'\u001b[39m)\n",
      "\u001b[0;31mImportError\u001b[0m: cannot import name 'asset_db_path' from 'zipline.data.bundles' (/Users/fayssalelmofatiche/anaconda3/envs/zbundler/lib/python3.11/site-packages/zipline/data/bundles/__init__.py)"
     ]
    }
   ],
   "source": [
    "from zipline.data.bundles import asset_db_path\n",
    "\n",
    "asset_db_path(\"csvdir\")"
   ]
  },
  {
   "cell_type": "code",
   "execution_count": 17,
   "metadata": {},
   "outputs": [
    {
     "data": {
      "text/plain": [
       "'/Users/fayssalelmofatiche/.zipline/data'"
      ]
     },
     "execution_count": 17,
     "metadata": {},
     "output_type": "execute_result"
    }
   ],
   "source": [
    "import zipline.utils.paths as pth\n",
    "\n",
    "pth.data_root()"
   ]
  },
  {
   "cell_type": "code",
   "execution_count": 18,
   "metadata": {},
   "outputs": [
    {
     "data": {
      "text/plain": [
       "['yahoo_direct',\n",
       " 'rstocks',\n",
       " 'mamastocks',\n",
       " '.DS_Store',\n",
       " 'csvdir',\n",
       " 'random_futures_data',\n",
       " 'random_stock_data',\n",
       " 'quandl',\n",
       " 'database_bundle']"
      ]
     },
     "execution_count": 18,
     "metadata": {},
     "output_type": "execute_result"
    }
   ],
   "source": [
    "os.listdir(pth.data_root())"
   ]
  },
  {
   "cell_type": "code",
   "execution_count": 24,
   "metadata": {},
   "outputs": [
    {
     "name": "stdout",
     "output_type": "stream",
     "text": [
      "yahoo_direct\n",
      "/Users/fayssalelmofatiche/.zipline/data/yahoo_direct\n",
      "rstocks\n",
      "/Users/fayssalelmofatiche/.zipline/data/rstocks\n",
      "mamastocks\n",
      "/Users/fayssalelmofatiche/.zipline/data/mamastocks\n",
      "csvdir\n",
      "/Users/fayssalelmofatiche/.zipline/data/csvdir\n",
      "random_futures_data\n",
      "/Users/fayssalelmofatiche/.zipline/data/random_futures_data\n",
      "random_stock_data\n",
      "/Users/fayssalelmofatiche/.zipline/data/random_stock_data\n",
      "quandl\n",
      "/Users/fayssalelmofatiche/.zipline/data/quandl\n",
      "database_bundle\n",
      "/Users/fayssalelmofatiche/.zipline/data/database_bundle\n"
     ]
    }
   ],
   "source": [
    "from pathlib import Path"
   ]
  },
  {
   "cell_type": "code",
   "execution_count": 25,
   "metadata": {},
   "outputs": [
    {
     "data": {
      "text/plain": [
       "'/Users/fayssalelmofatiche/.zipline/data/rstocks'"
      ]
     },
     "execution_count": 25,
     "metadata": {},
     "output_type": "execute_result"
    }
   ],
   "source": [
    "pth.data_path([\"rstocks\"])"
   ]
  },
  {
   "cell_type": "code",
   "execution_count": 28,
   "metadata": {},
   "outputs": [
    {
     "data": {
      "text/plain": [
       "'/Users/fayssalelmofatiche/.zipline'"
      ]
     },
     "execution_count": 28,
     "metadata": {},
     "output_type": "execute_result"
    }
   ],
   "source": [
    "pth.zipline_root()"
   ]
  },
  {
   "cell_type": "code",
   "execution_count": 29,
   "metadata": {},
   "outputs": [
    {
     "ename": "UnknownBundle",
     "evalue": "No bundle registered with the name 'rstocks'",
     "output_type": "error",
     "traceback": [
      "\u001b[0;31m---------------------------------------------------------------------------\u001b[0m",
      "\u001b[0;31mUnknownBundle\u001b[0m                             Traceback (most recent call last)",
      "\u001b[1;32m/Users/fayssalelmofatiche/dev/dnbf/zbun/playground.ipynb Cell 10\u001b[0m line \u001b[0;36m2\n\u001b[1;32m      <a href='vscode-notebook-cell:/Users/fayssalelmofatiche/dev/dnbf/zbun/playground.ipynb#Y133sZmlsZQ%3D%3D?line=0'>1</a>\u001b[0m \u001b[39mfrom\u001b[39;00m \u001b[39mzipline\u001b[39;00m\u001b[39m.\u001b[39;00m\u001b[39mdata\u001b[39;00m\u001b[39m.\u001b[39;00m\u001b[39mbundles\u001b[39;00m \u001b[39mimport\u001b[39;00m load \u001b[39mas\u001b[39;00m bundle_load\n\u001b[0;32m----> <a href='vscode-notebook-cell:/Users/fayssalelmofatiche/dev/dnbf/zbun/playground.ipynb#Y133sZmlsZQ%3D%3D?line=1'>2</a>\u001b[0m bundle_load(\u001b[39m'\u001b[39;49m\u001b[39mrstocks\u001b[39;49m\u001b[39m'\u001b[39;49m)\n",
      "File \u001b[0;32m~/anaconda3/envs/zbundler/lib/python3.11/site-packages/zipline/data/bundles/core.py:532\u001b[0m, in \u001b[0;36m_make_bundle_core.<locals>.load\u001b[0;34m(name, environ, timestamp)\u001b[0m\n\u001b[1;32m    530\u001b[0m \u001b[39mif\u001b[39;00m timestamp \u001b[39mis\u001b[39;00m \u001b[39mNone\u001b[39;00m:\n\u001b[1;32m    531\u001b[0m     timestamp \u001b[39m=\u001b[39m pd\u001b[39m.\u001b[39mTimestamp\u001b[39m.\u001b[39mutcnow()\n\u001b[0;32m--> 532\u001b[0m timestr \u001b[39m=\u001b[39m most_recent_data(name, timestamp, environ\u001b[39m=\u001b[39;49menviron)\n\u001b[1;32m    533\u001b[0m \u001b[39mreturn\u001b[39;00m BundleData(\n\u001b[1;32m    534\u001b[0m     asset_finder\u001b[39m=\u001b[39mAssetFinder(\n\u001b[1;32m    535\u001b[0m         asset_db_path(name, timestr, environ\u001b[39m=\u001b[39menviron),\n\u001b[0;32m   (...)\u001b[0m\n\u001b[1;32m    545\u001b[0m     ),\n\u001b[1;32m    546\u001b[0m )\n",
      "File \u001b[0;32m~/anaconda3/envs/zbundler/lib/python3.11/site-packages/zipline/data/bundles/core.py:485\u001b[0m, in \u001b[0;36m_make_bundle_core.<locals>.most_recent_data\u001b[0;34m(bundle_name, timestamp, environ)\u001b[0m\n\u001b[1;32m    472\u001b[0m \u001b[39m\u001b[39m\u001b[39m\"\"\"Get the path to the most recent data after ``date``for the\u001b[39;00m\n\u001b[1;32m    473\u001b[0m \u001b[39mgiven bundle.\u001b[39;00m\n\u001b[1;32m    474\u001b[0m \n\u001b[0;32m   (...)\u001b[0m\n\u001b[1;32m    482\u001b[0m \u001b[39m    An environment dict to forward to zipline_root.\u001b[39;00m\n\u001b[1;32m    483\u001b[0m \u001b[39m\"\"\"\u001b[39;00m\n\u001b[1;32m    484\u001b[0m \u001b[39mif\u001b[39;00m bundle_name \u001b[39mnot\u001b[39;00m \u001b[39min\u001b[39;00m bundles:\n\u001b[0;32m--> 485\u001b[0m     \u001b[39mraise\u001b[39;00m UnknownBundle(bundle_name)\n\u001b[1;32m    487\u001b[0m \u001b[39mtry\u001b[39;00m:\n\u001b[1;32m    488\u001b[0m     candidates \u001b[39m=\u001b[39m os\u001b[39m.\u001b[39mlistdir(\n\u001b[1;32m    489\u001b[0m         pth\u001b[39m.\u001b[39mdata_path([bundle_name], environ\u001b[39m=\u001b[39menviron),\n\u001b[1;32m    490\u001b[0m     )\n",
      "\u001b[0;31mUnknownBundle\u001b[0m: No bundle registered with the name 'rstocks'"
     ]
    }
   ],
   "source": [
    "from zipline.data.bundles import load as bundle_load\n",
    "\n",
    "bundle_load(\"rstocks\")"
   ]
  },
  {
   "cell_type": "code",
   "execution_count": 34,
   "metadata": {},
   "outputs": [
    {
     "ename": "TypeError",
     "evalue": "'mappingproxy' object does not support item assignment",
     "output_type": "error",
     "traceback": [
      "\u001b[0;31m---------------------------------------------------------------------------\u001b[0m",
      "\u001b[0;31mTypeError\u001b[0m                                 Traceback (most recent call last)",
      "\u001b[1;32m/Users/fayssalelmofatiche/dev/dnbf/zbun/playground.ipynb Cell 11\u001b[0m line \u001b[0;36m2\n\u001b[1;32m      <a href='vscode-notebook-cell:/Users/fayssalelmofatiche/dev/dnbf/zbun/playground.ipynb#Y134sZmlsZQ%3D%3D?line=0'>1</a>\u001b[0m \u001b[39mfrom\u001b[39;00m \u001b[39mzipline\u001b[39;00m\u001b[39m.\u001b[39;00m\u001b[39mdata\u001b[39;00m\u001b[39m.\u001b[39;00m\u001b[39mbundles\u001b[39;00m \u001b[39mimport\u001b[39;00m bundles\n\u001b[0;32m----> <a href='vscode-notebook-cell:/Users/fayssalelmofatiche/dev/dnbf/zbun/playground.ipynb#Y134sZmlsZQ%3D%3D?line=1'>2</a>\u001b[0m bundles[\u001b[39m'\u001b[39;49m\u001b[39mrstocks\u001b[39;49m\u001b[39m'\u001b[39;49m] \u001b[39m=\u001b[39m \u001b[39mNone\u001b[39;00m\n",
      "\u001b[0;31mTypeError\u001b[0m: 'mappingproxy' object does not support item assignment"
     ]
    }
   ],
   "source": [
    "from zipline.data.bundles import bundles\n",
    "\n",
    "bundles[\"rstocks\"] = None"
   ]
  },
  {
   "cell_type": "code",
   "execution_count": null,
   "metadata": {},
   "outputs": [],
   "source": []
  },
  {
   "cell_type": "code",
   "execution_count": null,
   "metadata": {},
   "outputs": [],
   "source": []
  },
  {
   "cell_type": "code",
   "execution_count": null,
   "metadata": {},
   "outputs": [],
   "source": []
  },
  {
   "cell_type": "code",
   "execution_count": null,
   "metadata": {},
   "outputs": [],
   "source": []
  },
  {
   "cell_type": "code",
   "execution_count": null,
   "metadata": {},
   "outputs": [],
   "source": []
  },
  {
   "cell_type": "code",
   "execution_count": null,
   "metadata": {},
   "outputs": [],
   "source": []
  },
  {
   "cell_type": "code",
   "execution_count": null,
   "metadata": {},
   "outputs": [],
   "source": []
  },
  {
   "cell_type": "code",
   "execution_count": null,
   "metadata": {},
   "outputs": [],
   "source": []
  },
  {
   "cell_type": "code",
   "execution_count": null,
   "metadata": {},
   "outputs": [],
   "source": []
  },
  {
   "cell_type": "code",
   "execution_count": null,
   "metadata": {},
   "outputs": [],
   "source": []
  },
  {
   "cell_type": "code",
   "execution_count": null,
   "metadata": {},
   "outputs": [],
   "source": []
  },
  {
   "cell_type": "code",
   "execution_count": null,
   "metadata": {},
   "outputs": [],
   "source": []
  },
  {
   "cell_type": "code",
   "execution_count": null,
   "metadata": {},
   "outputs": [],
   "source": []
  },
  {
   "cell_type": "code",
   "execution_count": null,
   "metadata": {},
   "outputs": [],
   "source": []
  },
  {
   "cell_type": "code",
   "execution_count": null,
   "metadata": {},
   "outputs": [],
   "source": []
  },
  {
   "cell_type": "code",
   "execution_count": null,
   "metadata": {},
   "outputs": [],
   "source": []
  },
  {
   "cell_type": "code",
   "execution_count": null,
   "metadata": {},
   "outputs": [],
   "source": []
  },
  {
   "cell_type": "code",
   "execution_count": null,
   "metadata": {},
   "outputs": [],
   "source": []
  },
  {
   "cell_type": "code",
   "execution_count": null,
   "metadata": {},
   "outputs": [],
   "source": []
  },
  {
   "cell_type": "code",
   "execution_count": null,
   "metadata": {},
   "outputs": [],
   "source": []
  },
  {
   "cell_type": "code",
   "execution_count": null,
   "metadata": {},
   "outputs": [],
   "source": []
  },
  {
   "cell_type": "code",
   "execution_count": null,
   "metadata": {},
   "outputs": [],
   "source": []
  },
  {
   "cell_type": "code",
   "execution_count": null,
   "metadata": {},
   "outputs": [],
   "source": []
  },
  {
   "cell_type": "code",
   "execution_count": null,
   "metadata": {},
   "outputs": [],
   "source": []
  }
 ],
 "metadata": {
  "kernelspec": {
   "display_name": "zipline311",
   "language": "python",
   "name": "python3"
  },
  "language_info": {
   "codemirror_mode": {
    "name": "ipython",
    "version": 3
   },
   "file_extension": ".py",
   "mimetype": "text/x-python",
   "name": "python",
   "nbconvert_exporter": "python",
   "pygments_lexer": "ipython3",
   "version": "3.11.5"
  }
 },
 "nbformat": 4,
 "nbformat_minor": 2
}
