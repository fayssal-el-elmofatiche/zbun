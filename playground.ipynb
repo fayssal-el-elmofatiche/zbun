{
 "cells": [
  {
   "cell_type": "code",
   "execution_count": 3,
   "metadata": {},
   "outputs": [
    {
     "data": {
      "text/plain": [
       "['24/5',\n",
       " '24/7',\n",
       " 'AIXK',\n",
       " 'ASEX',\n",
       " 'ASX',\n",
       " 'BATS',\n",
       " 'BMF',\n",
       " 'BSE',\n",
       " 'BVB',\n",
       " 'BVMF',\n",
       " 'CBOT',\n",
       " 'CFE',\n",
       " 'CME',\n",
       " 'CMES',\n",
       " 'COMEX',\n",
       " 'CSVDIR',\n",
       " 'FWB',\n",
       " 'HKEX',\n",
       " 'ICE',\n",
       " 'ICEUS',\n",
       " 'IEPA',\n",
       " 'JKT',\n",
       " 'JPX',\n",
       " 'LSE',\n",
       " 'NASDAQ',\n",
       " 'NYFE',\n",
       " 'NYMEX',\n",
       " 'NYSE',\n",
       " 'OSE',\n",
       " 'QUANDL',\n",
       " 'SIX',\n",
       " 'SSE',\n",
       " 'TASE',\n",
       " 'TSX',\n",
       " 'XAMS',\n",
       " 'XASX',\n",
       " 'XBKK',\n",
       " 'XBOG',\n",
       " 'XBOM',\n",
       " 'XBRU',\n",
       " 'XBSE',\n",
       " 'XBUD',\n",
       " 'XBUE',\n",
       " 'XCBF',\n",
       " 'XCSE',\n",
       " 'XDUB',\n",
       " 'XETR',\n",
       " 'XFRA',\n",
       " 'XHEL',\n",
       " 'XHKG',\n",
       " 'XICE',\n",
       " 'XIDX',\n",
       " 'XIST',\n",
       " 'XJSE',\n",
       " 'XKAR',\n",
       " 'XKLS',\n",
       " 'XKRX',\n",
       " 'XLIM',\n",
       " 'XLIS',\n",
       " 'XLON',\n",
       " 'XMAD',\n",
       " 'XMEX',\n",
       " 'XMIL',\n",
       " 'XMOS',\n",
       " 'XNAS',\n",
       " 'XNYS',\n",
       " 'XNZE',\n",
       " 'XOSL',\n",
       " 'XPAR',\n",
       " 'XPHS',\n",
       " 'XPRA',\n",
       " 'XSAU',\n",
       " 'XSES',\n",
       " 'XSGO',\n",
       " 'XSHG',\n",
       " 'XSTO',\n",
       " 'XSWX',\n",
       " 'XTAE',\n",
       " 'XTAI',\n",
       " 'XTKS',\n",
       " 'XTSE',\n",
       " 'XWAR',\n",
       " 'XWBO',\n",
       " 'us_futures']"
      ]
     },
     "execution_count": 3,
     "metadata": {},
     "output_type": "execute_result"
    }
   ],
   "source": [
    "# show list of calendars supported by zipline\n",
    "# https://www.zipline.io/calendar.html#module-zipline.utils.calendars\n",
    "import zipline\n",
    "import pandas as pd\n",
    "import os\n",
    "import sys\n",
    "\n",
    "from zipline.utils.calendar_utils import get_calendar_names\n",
    "\n",
    "sorted(get_calendar_names())"
   ]
  },
  {
   "cell_type": "code",
   "execution_count": null,
   "metadata": {},
   "outputs": [],
   "source": []
  },
  {
   "cell_type": "code",
   "execution_count": null,
   "metadata": {},
   "outputs": [],
   "source": []
  },
  {
   "cell_type": "code",
   "execution_count": null,
   "metadata": {},
   "outputs": [],
   "source": []
  }
 ],
 "metadata": {
  "kernelspec": {
   "display_name": "zipline311",
   "language": "python",
   "name": "python3"
  },
  "language_info": {
   "codemirror_mode": {
    "name": "ipython",
    "version": 3
   },
   "file_extension": ".py",
   "mimetype": "text/x-python",
   "name": "python",
   "nbconvert_exporter": "python",
   "pygments_lexer": "ipython3",
   "version": "3.11.7"
  }
 },
 "nbformat": 4,
 "nbformat_minor": 2
}
